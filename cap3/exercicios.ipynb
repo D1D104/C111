{
 "cells": [
  {
   "cell_type": "markdown",
   "metadata": {},
   "source": [
    "1. Crie uma lista preenchida com os 5 primeiros colocados de um Campeonato de Futebol, na ordem de colocação. Depois mostre:\n",
    "a. Apenas os3 primeiros colocados;\n",
    "b. Os últimos2 colocados;\n",
    "c. Uma lista com os times em ordem alfabética;\n",
    "d. Em que posição da tabela se encontra o Barcelona;"
   ]
  },
  {
   "cell_type": "code",
   "execution_count": null,
   "metadata": {},
   "outputs": [
    {
     "name": "stdout",
     "output_type": "stream",
     "text": [
      "Top 3:  ['Real Madrid', 'Barcelona', 'Betis']\n",
      "Ultimos colocados:  ['Sevilla', 'Girona']\n",
      "Ordem alfabetica:  ['Barcelona', 'Betis', 'Girona', 'Real Madrid', 'Sevilla']\n",
      "Barcelona está na posição 2\n"
     ]
    }
   ],
   "source": [
    "times = ['Real Madrid', 'Barcelona', 'Betis', 'Sevilla', 'Girona']\n",
    "\n",
    "print (\"Top 3: \", times[:3])\n",
    "print(\"Ultimos colocados: \", times[-2:])\n",
    "print(\"Ordem alfabetica: \", sorted(times))\n",
    "time_busca = \"Barcelona\"\n",
    "if time_busca in times:\n",
    "    print(f\"{time_busca} está na posição {times.index(time_busca) + 1}\")\n",
    "else:\n",
    "    print(f\"{time_busca} não está entre os 5 primeiros.\")"
   ]
  },
  {
   "cell_type": "markdown",
   "metadata": {},
   "source": [
    "2. Crie dois conjuntos, um para cada loja. Identifique quais modelos desmartphones cada uma delas vendem. Em seguida, mostre quais modelos no total você terá opção de comprar se visita-las e quais modelos se encontram disponíveis em ambas as lojas;"
   ]
  },
  {
   "cell_type": "code",
   "execution_count": 20,
   "metadata": {},
   "outputs": [
    {
     "name": "stdout",
     "output_type": "stream",
     "text": [
      "Modelos disponpíveis:  ['Iphone 12', 'Iphone 13', 'Iphone 14', 'Iphone 15', 'Iphone 16']\n",
      "Modelos em ambas as lojas:  ['Iphone 13', 'Iphone 14', 'Iphone 15']\n"
     ]
    }
   ],
   "source": [
    "loja_1 = {\"Iphone 12\", \"Iphone 13\",\"Iphone 14\",\"Iphone 15\"}\n",
    "loja_2 = {\"Iphone 13\", \"Iphone 14\",\"Iphone 15\",\"Iphone 16\"}\n",
    "\n",
    "print(\"Modelos disponpíveis: \", sorted(loja_1 | loja_2))\n",
    "print(\"Modelos em ambas as lojas: \", sorted(loja_1 & loja_2))"
   ]
  },
  {
   "cell_type": "markdown",
   "metadata": {},
   "source": [
    "3. Faça um programa que leia o nome e a média de um aluno e guarde os em um dicionário. Em seguida, a partir da média (para ser aprovado deve ter média >=50), gere a situação final do aluno (‘AP’ ou ‘RP’), que também deve ser guardada neste dicionário. No final, mostre todo o conteúdo deste dicionário;"
   ]
  },
  {
   "cell_type": "code",
   "execution_count": 28,
   "metadata": {},
   "outputs": [
    {
     "name": "stdout",
     "output_type": "stream",
     "text": [
      "{'Nome': 'd', 'Média': 60, 'Situação final': 'Ap'}\n"
     ]
    }
   ],
   "source": [
    "nome = input(\"Nome do aluno: \")\n",
    "media_aluno = int(input(\"Média do aluno: \"))\n",
    "if media_aluno>= 50:\n",
    "    situacao = \"Ap\"\n",
    "else:\n",
    "    situacao = \"Rp\"\n",
    "\n",
    "aluno = {\n",
    "    \"Nome\": nome,\n",
    "        \"Média\": media_aluno,\n",
    "        \"Situação final\": situacao\n",
    "}\n",
    "\n",
    "print(aluno)"
   ]
  },
  {
   "cell_type": "markdown",
   "metadata": {},
   "source": [
    "4. Faça um programa que leia o nome e peso de 3 pessoas e no final mostre o nome da pessoa mais pesada e a mais leve;"
   ]
  },
  {
   "cell_type": "code",
   "execution_count": 37,
   "metadata": {},
   "outputs": [
    {
     "name": "stdout",
     "output_type": "stream",
     "text": [
      "Pessoa mais pesada:  Arthur\n",
      "Pessoa mais leve:  Diego\n"
     ]
    }
   ],
   "source": [
    "pessoas = []\n",
    "\n",
    "for i in range(3):\n",
    "    nome = input(f\"Nome da pessoa {i+1}: \")\n",
    "    peso = int(input(f\"Peso da pessoa {i+1}: \"))\n",
    "    pessoas.append((peso,nome)) #Peso prpimeiro para a função max e min procurar no primeiro elemento \n",
    "\n",
    "mais_pesada = max(pessoas)\n",
    "mais_leve = min(pessoas)\n",
    "\n",
    "print(\"Pessoa mais pesada: \", mais_pesada[1])\n",
    "print(\"Pessoa mais leve: \", mais_leve[1])\n"
   ]
  },
  {
   "cell_type": "markdown",
   "metadata": {},
   "source": [
    "5. Desenvolva um programa que leia o nome, idade e sexo de n pessoas. No final, mostre: \n",
    "a. A média de idade do grupo;\n",
    "b. Quantas mulheres têm menos de 20 anos."
   ]
  },
  {
   "cell_type": "code",
   "execution_count": 46,
   "metadata": {},
   "outputs": [
    {
     "name": "stdout",
     "output_type": "stream",
     "text": [
      "Média de idade é 5.5 anos\n",
      "A quantidade de mulheres com menos de 20 anos é 2\n"
     ]
    }
   ],
   "source": [
    "pessoas = []\n",
    "\n",
    "n = int(input(\"Quantas pessoas para cadastro?\"))\n",
    "\n",
    "for i in range (n):\n",
    "    nome = input(f\"Nome da pessoa {i+1}: \")\n",
    "    idade = int(input(f\"Idade de {nome}: \"))\n",
    "    sexo = input(f\"Sexo de {nome} (M ou F): \").upper()\n",
    "    \n",
    "    pessoas.append({\n",
    "        \"Nome\": nome, \n",
    "        \"Idade\": idade, \n",
    "        \"Sexo\": sexo})\n",
    "    \n",
    "media_idade = sum(i[\"Idade\"]for i in pessoas)/n \n",
    "\n",
    "mulheres_menos_20 = sum(1 for k in pessoas if k[\"Sexo\"] == \"F\" and k[\"Idade\"] < 20)\n",
    "\n",
    "print(\"Média de idade é\", media_idade, \"anos\")\n",
    "print(\"A quantidade de mulheres com menos de 20 anos é\", mulheres_menos_20)"
   ]
  }
 ],
 "metadata": {
  "kernelspec": {
   "display_name": "Python 3",
   "language": "python",
   "name": "python3"
  },
  "language_info": {
   "codemirror_mode": {
    "name": "ipython",
    "version": 3
   },
   "file_extension": ".py",
   "mimetype": "text/x-python",
   "name": "python",
   "nbconvert_exporter": "python",
   "pygments_lexer": "ipython3",
   "version": "3.13.2"
  }
 },
 "nbformat": 4,
 "nbformat_minor": 2
}
