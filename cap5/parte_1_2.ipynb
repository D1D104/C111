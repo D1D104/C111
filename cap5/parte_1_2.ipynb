{
 "cells": [
  {
   "cell_type": "code",
   "execution_count": 9,
   "metadata": {},
   "outputs": [],
   "source": [
    "import pandas as pd\n",
    "import numpy as np\n",
    "\n",
    "seriesAno1 = pd.Series({'Java': 16.25,'C': 16.04, 'Python': 9.85})\n",
    "seriesAno2 = pd.Series({'C': 16.21,'Python': 12.12, 'Java': 11.68})"
   ]
  },
  {
   "cell_type": "code",
   "execution_count": 12,
   "metadata": {},
   "outputs": [
    {
     "name": "stdout",
     "output_type": "stream",
     "text": [
      "A porcentagem total que as linguagens representam no mercado no ano 1 foi de 42.14%\n",
      "A porcentagem total que as linguagens representam no mercado no ano 2 foi de 40.01%\n"
     ]
    }
   ],
   "source": [
    "total_ano_1 = seriesAno1.sum()\n",
    "total_ano_2 = seriesAno2.sum()\n",
    "\n",
    "print(f\"A porcentagem total que as linguagens representam no mercado no ano 1 foi de {total_ano_1}%\")\n",
    "print(f\"A porcentagem total que as linguagens representam no mercado no ano 2 foi de {total_ano_2}%\")"
   ]
  },
  {
   "cell_type": "code",
   "execution_count": 32,
   "metadata": {},
   "outputs": [
    {
     "name": "stdout",
     "output_type": "stream",
     "text": [
      "A variação da linguagem C foi de 1.06%\n",
      "A variação da linguagem Java foi de -28.12%\n",
      "A variação da linguagem Python foi de 23.05%\n"
     ]
    }
   ],
   "source": [
    "variacao = ((seriesAno2 - seriesAno1) / seriesAno1) * 100\n",
    "\n",
    "for linguagem, valor in variacao.items():\n",
    "    print(f\"A variação da linguagem {linguagem} foi de {valor:.2f}%\")"
   ]
  },
  {
   "cell_type": "code",
   "execution_count": 39,
   "metadata": {},
   "outputs": [
    {
     "name": "stdout",
     "output_type": "stream",
     "text": [
      "Linguagens com crescimento:\n",
      "C com crescimento de 1.06%\n",
      "Python com crescimento de 23.05%\n"
     ]
    }
   ],
   "source": [
    "print(\"Linguagens com crescimento:\")\n",
    "for linguagem, valor in variacao.items():\n",
    "    if valor > 0:\n",
    "        print(f\"{linguagem} com crescimento de {valor:.2f}%\")"
   ]
  },
  {
   "cell_type": "code",
   "execution_count": 44,
   "metadata": {},
   "outputs": [
    {
     "name": "stdout",
     "output_type": "stream",
     "text": [
      "A linguagem mais popular após 2 anos será:\n",
      "Python    18.349972\n",
      "dtype: float64\n"
     ]
    }
   ],
   "source": [
    "valores_projetados = seriesAno2.copy()\n",
    "for _ in range(2): \n",
    "    valores_projetados += (valores_projetados * variacao / 100)\n",
    "\n",
    "mais_popular = valores_projetados.nlargest(1)\n",
    "\n",
    "print(\"A linguagem mais popular após 2 anos será:\")\n",
    "print(mais_popular)\n"
   ]
  },
  {
   "cell_type": "code",
   "execution_count": 46,
   "metadata": {},
   "outputs": [
    {
     "name": "stdout",
     "output_type": "stream",
     "text": [
      "    W   X   Y   Z\n",
      "A  10  37  16   1\n",
      "B  29  26  30  49\n",
      "C  30   9  10   1\n",
      "D  43  41  37  17\n",
      "E  37  48  12  25\n"
     ]
    }
   ],
   "source": [
    "np.random.seed(10)\n",
    "df = pd.DataFrame(\n",
    "index=['A', 'B', 'C', 'D', 'E'],\n",
    "columns=['W', 'X', 'Y', 'Z'],\n",
    "data=np.random.randint(1, 50, [5, 4]))\n",
    "print(df)\n"
   ]
  },
  {
   "cell_type": "code",
   "execution_count": 47,
   "metadata": {},
   "outputs": [
    {
     "name": "stdout",
     "output_type": "stream",
     "text": [
      "Média dos elementos da coluna X menores que 30: 17.50\n"
     ]
    }
   ],
   "source": [
    "media_x_menor_30 = df['X'][df['X'] < 30].mean()\n",
    "print(f\"Média dos elementos da coluna X menores que 30: {media_x_menor_30:.2f}\")"
   ]
  },
  {
   "cell_type": "code",
   "execution_count": 51,
   "metadata": {},
   "outputs": [
    {
     "name": "stdout",
     "output_type": "stream",
     "text": [
      "Média dos elementos da linha D: 34.50\n",
      "Soma dos elementos da linha E: 122\n"
     ]
    }
   ],
   "source": [
    "media_linha_d = df.loc['D'].mean()\n",
    "print(f\"Média dos elementos da linha D: {media_linha_d:.2f}\")\n",
    "\n",
    "soma_linha_e = df.iloc[4].sum() \n",
    "print(f\"Soma dos elementos da linha E: {soma_linha_e}\")"
   ]
  },
  {
   "cell_type": "code",
   "execution_count": 52,
   "metadata": {},
   "outputs": [
    {
     "name": "stdout",
     "output_type": "stream",
     "text": [
      "Sliced DataFrame:\n",
      "    X   Y\n",
      "A  37  16\n",
      "C   9  10\n",
      "E  48  12\n",
      "\n",
      "Soma dos elementos de cada linha:\n",
      "A    53\n",
      "C    19\n",
      "E    60\n",
      "dtype: int64\n",
      "\n",
      "Soma dos elementos de cada coluna:\n",
      "X    94\n",
      "Y    38\n",
      "dtype: int64\n"
     ]
    }
   ],
   "source": [
    "sliced_df = df.loc[['A', 'C', 'E'], ['X', 'Y']]\n",
    "print(\"Sliced DataFrame:\")\n",
    "print(sliced_df)\n",
    "\n",
    "soma_linhas = sliced_df.sum(axis=1)\n",
    "print(\"\\nSoma dos elementos de cada linha:\")\n",
    "print(soma_linhas)\n",
    "\n",
    "soma_colunas = sliced_df.sum(axis=0)\n",
    "print(\"\\nSoma dos elementos de cada coluna:\")\n",
    "print(soma_colunas)"
   ]
  }
 ],
 "metadata": {
  "kernelspec": {
   "display_name": "Python 3",
   "language": "python",
   "name": "python3"
  },
  "language_info": {
   "codemirror_mode": {
    "name": "ipython",
    "version": 3
   },
   "file_extension": ".py",
   "mimetype": "text/x-python",
   "name": "python",
   "nbconvert_exporter": "python",
   "pygments_lexer": "ipython3",
   "version": "3.13.2"
  }
 },
 "nbformat": 4,
 "nbformat_minor": 2
}
