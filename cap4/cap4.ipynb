{
 "cells": [
  {
   "cell_type": "markdown",
   "metadata": {},
   "source": [
    "1. Crie dois NumPy Arrays unidimensionais de tamanho 8: um formado apenas por 1’s e outro formado por números aleatórios entre 0 e 9. Some estes dois NumPy Arrays e guarde o resultado dentro de um terceiro NumPy Array. Por fim, faça o seguinte:\n",
    "a. Se a soma de todos os elementos do Array resultante for >= 40, remodele este NumPy Array para se tornar uma matriz com mais linhas do que colunas. Senão, remodele para que se torne uma matriz com mais colunas do que linhas."
   ]
  },
  {
   "cell_type": "code",
   "execution_count": 2,
   "metadata": {},
   "outputs": [
    {
     "name": "stdout",
     "output_type": "stream",
     "text": [
      "[[2. 6. 8. 6.]\n",
      " [1. 2. 5. 9.]]\n"
     ]
    }
   ],
   "source": [
    "import numpy as np\n",
    "\n",
    "ones = np.ones(8)\n",
    "random = np.random.randint(0,10,8)\n",
    "soma = ones + random\n",
    "\n",
    "if soma.sum() >= 40:\n",
    "    mtz = soma.reshape(4,2)\n",
    "else: \n",
    "    mtz = soma.reshape(2,4)\n",
    "print(mtz)"
   ]
  },
  {
   "cell_type": "markdown",
   "metadata": {},
   "source": [
    "2. Crie dois NumPy Arrays unidimensionais: um de números pares de 0 à 51 e outro também de números pares de 100 até 50. Em seguida,  os concatene e mostre os resultados ordenados"
   ]
  },
  {
   "cell_type": "code",
   "execution_count": 25,
   "metadata": {},
   "outputs": [
    {
     "name": "stdout",
     "output_type": "stream",
     "text": [
      "[  0   2   4   6   8  10  12  14  16  18  20  22  24  26  28  30  32  34\n",
      "  36  38  40  42  44  46  48  50  50  52  54  56  58  60  62  64  66  68\n",
      "  70  72  74  76  78  80  82  84  86  88  90  92  94  96  98 100]\n"
     ]
    }
   ],
   "source": [
    "array1 = np.arange(0, 52, 2)\n",
    "array2 = np.arange(100, 49, -2)\n",
    "\n",
    "arrayFinal = np.sort(np.concatenate((array1, array2)))\n",
    "print(arrayFinal)"
   ]
  },
  {
   "cell_type": "markdown",
   "metadata": {},
   "source": [
    "3. Mini Campo Minado:\n",
    "a) Crie um NumPy Array 2 x 2 formado apenas por 0’s\n",
    "b) Em seguida, adicione um número 1 em uma posição aleatória desta matriz;\n",
    "c) Faça uma entrada de dados para solicitar o usuário que faça uma jogada(selecione uma posição da matriz) \n",
    "I. Se ele selecionar todas as posições em que o número 1 não se encontra, mostre a  mensagem “Congratulations! You beat the game!”\n",
    "II. Senão, se dentro das 3 primeiras jogadas ele achar o número 1, mostre a mensagem “Game Over! Try Again! ”"
   ]
  },
  {
   "cell_type": "code",
   "execution_count": 16,
   "metadata": {},
   "outputs": [
    {
     "name": "stdout",
     "output_type": "stream",
     "text": [
      "Game Over!\n",
      "[[1. 0.]\n",
      " [0. 0.]]\n"
     ]
    }
   ],
   "source": [
    "campo = np.zeros((2,2))\n",
    "x, y = np.random.randint(0, 2, 2)\n",
    "campo[x][y] = 1\n",
    "encontrou = False\n",
    "for i in range (3):\n",
    "    entrada = input(\"Faça sua jogada, entre com a posição da matriz (x,y): \")\n",
    "    x, y = entrada.split(',')\n",
    "    if campo[int(x)][int(y)] == 1:\n",
    "        encontrou = True\n",
    "        print(\"Game Over!\")\n",
    "        break\n",
    "\n",
    "if not encontrou:\n",
    "    print(\"Congratulations! You beat the game!\")\n",
    "print(campo)"
   ]
  },
  {
   "cell_type": "markdown",
   "metadata": {},
   "source": [
    "4. Crie uma matriz de tamanho qualquer. Extraia seu número de linhas e colunas, multiplique-os, e diga se esta matriz poderia se tornar um vetor unidimensional com número par ou ímpar de elementos "
   ]
  },
  {
   "cell_type": "code",
   "execution_count": 22,
   "metadata": {},
   "outputs": [
    {
     "name": "stdout",
     "output_type": "stream",
     "text": [
      "A matriz se tornaria um vetor unidimensional par de tamanho: 16\n"
     ]
    }
   ],
   "source": [
    "matriz = np.random.randint(0, 10, (4,4))\n",
    "tamanho = matriz.shape[0]*matriz.shape[1]\n",
    "if tamanho % 2 ==0:\n",
    "    print(\"A matriz se tornaria um vetor unidimensional par de tamanho:\", tamanho)\n",
    "else:\n",
    "    print(\"A matriz se tornaria um vetor unidimensional ímpar de tamanho:\", tamanho)"
   ]
  },
  {
   "cell_type": "markdown",
   "metadata": {},
   "source": [
    "5. Crie uma matriz de tamanho 4x4 formada por números aleatórios inteiros entre 1 e 50 (use seed = 10 antes) \n",
    "a) Mostre o resultado da média de cada linha e cada coluna da matriz gerada\n",
    "b) Apresente o maior valor das médias das linhas e também das colunas\n",
    "c) Mostre a quantidade de aparições de cada um dos números gerados na matriz. Em seguida, mostre apenas os números que aparecem 2 vezes\n"
   ]
  },
  {
   "cell_type": "code",
   "execution_count": 55,
   "metadata": {},
   "outputs": [
    {
     "name": "stdout",
     "output_type": "stream",
     "text": [
      "[[10 37 16  1]\n",
      " [50 29 26 30]\n",
      " [49 30 50  9]\n",
      " [10  1 43 41]]\n",
      "Média de cada linha [16.   33.75 34.5  23.75]\n",
      "Média de cada coluna [29.75 24.25 33.75 20.25]\n",
      "Maior valor da media das linhas: 34.5\n",
      "Maior valor da media das colunas: 33.75\n",
      "Quantidade de aparições de cada número na matriz:\n",
      "1 : 2\n",
      "9 : 1\n",
      "10 : 2\n",
      "16 : 1\n",
      "26 : 1\n",
      "29 : 1\n",
      "30 : 2\n",
      "37 : 1\n",
      "41 : 1\n",
      "43 : 1\n",
      "49 : 1\n",
      "50 : 2\n",
      "Números que aparecem duas vezes na matriz:\n",
      "1\n",
      "10\n",
      "30\n",
      "50\n"
     ]
    }
   ],
   "source": [
    "np.random.seed(10)\n",
    "matriz = np.random.randint(1, 51, (4,4))\n",
    "print(matriz)\n",
    "\n",
    "print(\"Média de cada linha\", matriz.mean(axis=1))\n",
    "print(\"Média de cada coluna\", matriz.mean(axis=0))\n",
    "\n",
    "print(\"Maior valor da media das linhas:\", matriz.mean(axis=1).max())\n",
    "print(\"Maior valor da media das colunas:\", matriz.mean(axis=0).max())\n",
    "\n",
    "numbers, count = np.unique(matriz, return_counts=True) # retorna dois arrays, um com os números e outro com a quantidade de vezes que cada número aparece\n",
    "print(\"Quantidade de aparições de cada número na matriz:\")\n",
    "for i in range(len(numbers)):\n",
    "    print(numbers[i], \":\", count[i])\n",
    "\n",
    "print(\"Números que aparecem duas vezes na matriz:\")\n",
    "for i in range(len(numbers)):\n",
    "    if count[i] == 2:\n",
    "        print(numbers[i])"
   ]
  }
 ],
 "metadata": {
  "kernelspec": {
   "display_name": "Python 3",
   "language": "python",
   "name": "python3"
  },
  "language_info": {
   "codemirror_mode": {
    "name": "ipython",
    "version": 3
   },
   "file_extension": ".py",
   "mimetype": "text/x-python",
   "name": "python",
   "nbconvert_exporter": "python",
   "pygments_lexer": "ipython3",
   "version": "3.13.2"
  }
 },
 "nbformat": 4,
 "nbformat_minor": 2
}
