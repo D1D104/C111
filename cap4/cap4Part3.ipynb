{
 "cells": [
  {
   "cell_type": "markdown",
   "metadata": {},
   "source": [
    "Importando o CSV\n"
   ]
  },
  {
   "cell_type": "code",
   "execution_count": 2,
   "metadata": {},
   "outputs": [
    {
     "name": "stdout",
     "output_type": "stream",
     "text": [
      "[['\\ufeffNum' 'Company Name' 'Location' ... 'Status Rocket' ' Cost'\n",
      "  'Status Mission']\n",
      " ['0' 'SpaceX' 'LC-39A Kennedy Space Center Florida USA' ...\n",
      "  'StatusActive' '50.0 ' 'Success']\n",
      " ['1' 'CASC' 'Site 9401 (SLS-2) Jiuquan Satellite Launch Center China'\n",
      "  ... 'StatusActive' '29.75 ' 'Success']\n",
      " ...\n",
      " ['4321' 'US Navy' 'LC-18A Cape Canaveral AFS Florida USA' ...\n",
      "  'StatusRetired' '0' 'Failure']\n",
      " ['4322' 'RVSN USSR' 'Site 1/5 Baikonur Cosmodrome Kazakhstan' ...\n",
      "  'StatusRetired' '0' 'Success']\n",
      " ['4323' 'RVSN USSR' 'Site 1/5 Baikonur Cosmodrome Kazakhstan' ...\n",
      "  'StatusRetired' '0' 'Success']]\n"
     ]
    }
   ],
   "source": [
    "import numpy as np\n",
    "\n",
    "dataset = np.loadtxt(\"space.csv\", delimiter=\";\",dtype=str,encoding = 'utf-8')\n",
    "print(dataset)"
   ]
  },
  {
   "cell_type": "markdown",
   "metadata": {},
   "source": [
    "1. Apresente a porcentagem de missões que deram certo"
   ]
  },
  {
   "cell_type": "code",
   "execution_count": 15,
   "metadata": {},
   "outputs": [
    {
     "name": "stdout",
     "output_type": "stream",
     "text": [
      "Porcentagem de missões bem sucedidas:  89 %\n"
     ]
    }
   ],
   "source": [
    "status_mission = dataset[1:, 7]\n",
    "\n",
    "success = np.sum(status_mission == 'Success')\n",
    "\n",
    "total_missions = status_mission.size\n",
    "\n",
    "print(\"Porcentagem de missões bem sucedidas: \", int((success / total_missions) * 100), \"%\")"
   ]
  },
  {
   "cell_type": "markdown",
   "metadata": {},
   "source": [
    "2. Qual a media de gastos de uma missão especial se baseando em missões que possuam valores disponíveis (>0)?"
   ]
  },
  {
   "cell_type": "code",
   "execution_count": 39,
   "metadata": {},
   "outputs": [
    {
     "name": "stdout",
     "output_type": "stream",
     "text": [
      "Media de gastos que possuem valores:  153.7921991701245\n"
     ]
    }
   ],
   "source": [
    "cost = dataset[1:, 6].astype(float)\n",
    "cost_validos = cost[cost > 0]\n",
    "print(\"Media de gastos que possuem valores: \", np.mean(cost_validos))"
   ]
  },
  {
   "cell_type": "markdown",
   "metadata": {},
   "source": [
    "3. Encontre quantas missões espaciais neste Dataset foram realizadas pelos Estados Unidos(EUA)"
   ]
  },
  {
   "cell_type": "code",
   "execution_count": 45,
   "metadata": {},
   "outputs": [
    {
     "name": "stdout",
     "output_type": "stream",
     "text": [
      "Quantidade de missões que foram realizadas pelos Estados Unidos: 1344\n"
     ]
    }
   ],
   "source": [
    "location = dataset[1:, 2]\n",
    "quantidade_USA = np.sum(np.char.find(location, \"USA\")>-1)\n",
    "print(\"Quantidade de missões que foram realizadas pelos Estados Unidos:\",quantidade_USA)"
   ]
  },
  {
   "cell_type": "markdown",
   "metadata": {},
   "source": [
    "4. Encontre qual foi a missão mais cara realizada pela empresas “SpaceX”\n"
   ]
  },
  {
   "cell_type": "code",
   "execution_count": 51,
   "metadata": {},
   "outputs": [
    {
     "name": "stdout",
     "output_type": "stream",
     "text": [
      "Maior gasto da SpaceX:  90.0\n"
     ]
    }
   ],
   "source": [
    "companyName = dataset[1:, 1]\n",
    "cost = dataset[1:, 6].astype(float)\n",
    "print(\"Maior gasto da SpaceX: \", np.max(cost[companyName == \"SpaceX\"]))"
   ]
  },
  {
   "cell_type": "markdown",
   "metadata": {},
   "source": [
    "5. Mostre o nome das empresas que já realizaram missões espaciais, juntamente com suas respectivas quantidades de missões (use o for no final para mostrar as informações)\n"
   ]
  },
  {
   "cell_type": "code",
   "execution_count": 60,
   "metadata": {},
   "outputs": [
    {
     "name": "stdout",
     "output_type": "stream",
     "text": [
      "AEBpossui 3 missão(ões)\n",
      "AMBApossui 8 missão(ões)\n",
      "ASIpossui 9 missão(ões)\n",
      "Arianespacepossui 279 missão(ões)\n",
      "Arm??e de l'Airpossui 4 missão(ões)\n",
      "Blue Originpossui 12 missão(ões)\n",
      "Boeingpossui 136 missão(ões)\n",
      "CASCpossui 251 missão(ões)\n",
      "CASICpossui 5 missão(ões)\n",
      "CECLESpossui 4 missão(ões)\n",
      "CNESpossui 8 missão(ões)\n",
      "Douglaspossui 1 missão(ões)\n",
      "EERpossui 1 missão(ões)\n",
      "ESApossui 13 missão(ões)\n",
      "Eurockotpossui 13 missão(ões)\n",
      "ExPacepossui 10 missão(ões)\n",
      "Exospossui 4 missão(ões)\n",
      "General Dynamicspossui 251 missão(ões)\n",
      "IAIpossui 11 missão(ões)\n",
      "ILSpossui 46 missão(ões)\n",
      "IRGCpossui 1 missão(ões)\n",
      "ISApossui 13 missão(ões)\n",
      "ISASpossui 30 missão(ões)\n",
      "ISROpossui 76 missão(ões)\n",
      "JAXApossui 7 missão(ões)\n",
      "KARIpossui 3 missão(ões)\n",
      "KCSTpossui 5 missão(ões)\n",
      "Khrunichevpossui 1 missão(ões)\n",
      "Kosmotraspossui 22 missão(ões)\n",
      "Land Launchpossui 7 missão(ões)\n",
      "Landspacepossui 1 missão(ões)\n",
      "Lockheedpossui 79 missão(ões)\n",
      "MHIpossui 84 missão(ões)\n",
      "MITTpossui 7 missão(ões)\n",
      "Martin Mariettapossui 114 missão(ões)\n",
      "NASApossui 203 missão(ões)\n",
      "Northroppossui 83 missão(ões)\n",
      "OKB-586possui 2 missão(ões)\n",
      "OneSpacepossui 1 missão(ões)\n",
      "RAEpossui 2 missão(ões)\n",
      "RVSN USSRpossui 1777 missão(ões)\n",
      "Rocket Labpossui 13 missão(ões)\n",
      "Roscosmospossui 55 missão(ões)\n",
      "SRCpossui 3 missão(ões)\n",
      "Sandiapossui 1 missão(ões)\n",
      "Sea Launchpossui 36 missão(ões)\n",
      "SpaceXpossui 100 missão(ões)\n",
      "Starsempossui 1 missão(ões)\n",
      "ULApossui 140 missão(ões)\n",
      "US Air Forcepossui 161 missão(ões)\n",
      "US Navypossui 17 missão(ões)\n",
      "UTpossui 5 missão(ões)\n",
      "VKS RFpossui 201 missão(ões)\n",
      "Virgin Orbitpossui 1 missão(ões)\n",
      "Yuzhmashpossui 2 missão(ões)\n",
      "i-Spacepossui 1 missão(ões)\n"
     ]
    }
   ],
   "source": [
    "company_names = dataset[1:, 1]\n",
    "unique, counts = np.unique(company_names, return_counts=True)\n",
    "for company, count in zip(unique, counts):\n",
    "    print(f\"{company}possui {count} missão(ões)\")\n"
   ]
  }
 ],
 "metadata": {
  "kernelspec": {
   "display_name": "Python 3",
   "language": "python",
   "name": "python3"
  },
  "language_info": {
   "codemirror_mode": {
    "name": "ipython",
    "version": 3
   },
   "file_extension": ".py",
   "mimetype": "text/x-python",
   "name": "python",
   "nbconvert_exporter": "python",
   "pygments_lexer": "ipython3",
   "version": "3.13.2"
  }
 },
 "nbformat": 4,
 "nbformat_minor": 2
}
